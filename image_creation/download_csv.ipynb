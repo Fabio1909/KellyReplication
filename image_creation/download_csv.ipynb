{
 "cells": [
  {
   "cell_type": "code",
   "id": "f912474a-61df-4033-8cab-861251be825f",
   "metadata": {},
   "source": [
    "import pandas as pd\n",
    "import yfinance as yf"
   ],
   "outputs": [],
   "execution_count": null
  },
  {
   "metadata": {},
   "cell_type": "code",
   "source": "# Ho fatto copia incolla dai csv del Group Project perche yfinance rompeva le balle",
   "id": "832a0709a2ec0f58",
   "outputs": [],
   "execution_count": null
  },
  {
   "cell_type": "markdown",
   "id": "8e22ab19-bfbf-419f-be85-21f0107f68f4",
   "metadata": {},
   "source": [
    "# Download stock data form yfinance"
   ]
  },
  {
   "cell_type": "code",
   "id": "510147c9-ae07-4e16-8544-32cce362e475",
   "metadata": {},
   "source": [
    "# First we get all the tickers for all sp500 companies\n",
    "tickers_table = pd.read_html(\n",
    "    'https://en.wikipedia.org/wiki/List_of_S%26P_500_companies')[0]\n",
    "tickers = list(tickers_table[\"Symbol\"])"
   ],
   "outputs": [],
   "execution_count": null
  },
  {
   "cell_type": "code",
   "id": "c1b85170-50d5-4926-95fb-916777a2377e",
   "metadata": {},
   "source": [
    "def get_stock_data(ticker, start_date, end_date=None):\n",
    "    stock_data = yf.download(ticker, start=start_date, end=end_date, progress=False)\n",
    "    stock_data.drop(['Adj Close'], axis = 1, inplace = True)\n",
    "    stock_data.rename(columns={\"Volume\": \"Vol\"}, inplace=True)\n",
    "    return stock_data"
   ],
   "outputs": [],
   "execution_count": null
  },
  {
   "cell_type": "markdown",
   "id": "2d6f70dd-d350-48ed-b26d-76a072378a9e",
   "metadata": {},
   "source": [
    "# Download Traning Data"
   ]
  },
  {
   "cell_type": "code",
   "id": "97f6f1be-2702-4c25-9cf5-d417f50f4f2e",
   "metadata": {
    "jupyter": {
     "is_executing": true
    }
   },
   "source": [
    "%%time\n",
    "all_dfs_dict = {}\n",
    "for ticker in tickers:\n",
    "    try:\n",
    "        current_stock = get_stock_data(ticker, start_date = \"2010-01-01\", end_date = \"2019-12-31\")\n",
    "        current_stock.reset_index(inplace = True)\n",
    "        if len(current_stock) < 5:\n",
    "            pass\n",
    "        else: \n",
    "            current_stock.to_csv(f\"../_csv/traning/{ticker}.csv\")\n",
    "        all_dfs_dict[f\"{ticker}\"] = current_stock\n",
    "    except:\n",
    "        all_dfs_dict[f\"{ticker}\"] = None"
   ],
   "outputs": [
    {
     "name": "stderr",
     "output_type": "stream",
     "text": [
      "\n",
      "2 Failed downloads:\n",
      "['HUM', 'HUBB']: JSONDecodeError('Expecting value: line 1 column 1 (char 0)')\n",
      "\n",
      "1 Failed download:\n",
      "['HPQ']: JSONDecodeError('Expecting value: line 1 column 1 (char 0)')\n",
      "\n",
      "1 Failed download:\n",
      "['HBAN']: JSONDecodeError('Expecting value: line 1 column 1 (char 0)')\n",
      "\n",
      "1 Failed download:\n",
      "['IBM']: JSONDecodeError('Expecting value: line 1 column 1 (char 0)')\n",
      "\n",
      "1 Failed download:\n",
      "['HII']: JSONDecodeError('Expecting value: line 1 column 1 (char 0)')\n",
      "\n",
      "1 Failed download:\n",
      "['IEX']: JSONDecodeError('Expecting value: line 1 column 1 (char 0)')\n",
      "\n",
      "2 Failed downloads:\n",
      "['ITW', 'IDXX']: JSONDecodeError('Expecting value: line 1 column 1 (char 0)')\n",
      "\n",
      "1 Failed download:\n",
      "['INCY']: JSONDecodeError('Expecting value: line 1 column 1 (char 0)')\n",
      "\n",
      "1 Failed download:\n",
      "['IR']: JSONDecodeError('Expecting value: line 1 column 1 (char 0)')\n",
      "\n",
      "1 Failed download:\n",
      "['INTC']: JSONDecodeError('Expecting value: line 1 column 1 (char 0)')\n",
      "\n",
      "1 Failed download:\n",
      "['PODD']: JSONDecodeError('Expecting value: line 1 column 1 (char 0)')\n",
      "\n",
      "2 Failed downloads:\n",
      "['ICE', 'IFF']: JSONDecodeError('Expecting value: line 1 column 1 (char 0)')\n",
      "\n",
      "1 Failed download:\n",
      "['IP']: JSONDecodeError('Expecting value: line 1 column 1 (char 0)')\n",
      "\n",
      "1 Failed download:\n",
      "['IPG']: JSONDecodeError('Expecting value: line 1 column 1 (char 0)')\n",
      "\n",
      "1 Failed download:\n",
      "['INTU']: JSONDecodeError('Expecting value: line 1 column 1 (char 0)')\n",
      "\n",
      "1 Failed download:\n",
      "['ISRG']: JSONDecodeError('Expecting value: line 1 column 1 (char 0)')\n",
      "\n",
      "1 Failed download:\n",
      "['IVZ']: JSONDecodeError('Expecting value: line 1 column 1 (char 0)')\n",
      "\n",
      "1 Failed download:\n",
      "['INVH']: JSONDecodeError('Expecting value: line 1 column 1 (char 0)')\n",
      "\n",
      "1 Failed download:\n",
      "['IQV']: JSONDecodeError('Expecting value: line 1 column 1 (char 0)')\n",
      "\n",
      "1 Failed download:\n",
      "['IRM']: JSONDecodeError('Expecting value: line 1 column 1 (char 0)')\n",
      "\n",
      "1 Failed download:\n",
      "['JBHT']: JSONDecodeError('Expecting value: line 1 column 1 (char 0)')\n",
      "\n",
      "1 Failed download:\n",
      "['JBL']: JSONDecodeError('Expecting value: line 1 column 1 (char 0)')\n",
      "\n",
      "1 Failed download:\n",
      "['JKHY']: JSONDecodeError('Expecting value: line 1 column 1 (char 0)')\n",
      "\n",
      "1 Failed download:\n",
      "['J']: %ticker%SONDecodeError('Expecting value: line 1 column 1 (char 0)')\n",
      "\n",
      "1 Failed download:\n",
      "['JNJ']: JSONDecodeError('Expecting value: line 1 column 1 (char 0)')\n",
      "\n",
      "1 Failed download:\n",
      "['JCI']: JSONDecodeError('Expecting value: line 1 column 1 (char 0)')\n",
      "\n",
      "1 Failed download:\n",
      "['JPM']: JSONDecodeError('Expecting value: line 1 column 1 (char 0)')\n",
      "\n",
      "1 Failed download:\n",
      "['K']: JSONDecodeError('Expecting value: line 1 column 1 (char 0)')\n",
      "\n",
      "1 Failed download:\n",
      "['KVUE']: JSONDecodeError('Expecting value: line 1 column 1 (char 0)')\n",
      "\n",
      "1 Failed download:\n",
      "['KDP']: JSONDecodeError('Expecting value: line 1 column 1 (char 0)')\n",
      "\n",
      "1 Failed download:\n",
      "['KEY']: JSONDecodeError('Expecting value: line 1 column 1 (char 0)')\n",
      "\n",
      "1 Failed download:\n",
      "['KEYS']: JSONDecodeError('Expecting value: line 1 column 1 (char 0)')\n",
      "\n",
      "1 Failed download:\n",
      "['KMB']: JSONDecodeError('Expecting value: line 1 column 1 (char 0)')\n",
      "\n",
      "1 Failed download:\n",
      "['KIM']: JSONDecodeError('Expecting value: line 1 column 1 (char 0)')\n",
      "\n",
      "1 Failed download:\n",
      "['KMI']: JSONDecodeError('Expecting value: line 1 column 1 (char 0)')\n",
      "\n",
      "1 Failed download:\n",
      "['KKR']: JSONDecodeError('Expecting value: line 1 column 1 (char 0)')\n",
      "\n",
      "1 Failed download:\n",
      "['KLAC']: JSONDecodeError('Expecting value: line 1 column 1 (char 0)')\n",
      "\n",
      "1 Failed download:\n",
      "['KHC']: JSONDecodeError('Expecting value: line 1 column 1 (char 0)')\n",
      "\n",
      "1 Failed download:\n",
      "['KR']: JSONDecodeError('Expecting value: line 1 column 1 (char 0)')\n",
      "\n",
      "1 Failed download:\n",
      "['LHX']: JSONDecodeError('Expecting value: line 1 column 1 (char 0)')\n",
      "\n",
      "1 Failed download:\n",
      "['LH']: JSONDecodeError('Expecting value: line 1 column 1 (char 0)')\n",
      "\n",
      "1 Failed download:\n",
      "['LRCX']: JSONDecodeError('Expecting value: line 1 column 1 (char 0)')\n",
      "\n",
      "1 Failed download:\n",
      "['LW']: JSONDecodeError('Expecting value: line 1 column 1 (char 0)')\n",
      "\n",
      "1 Failed download:\n",
      "['LVS']: JSONDecodeError('Expecting value: line 1 column 1 (char 0)')\n",
      "\n",
      "1 Failed download:\n",
      "['LDOS']: JSONDecodeError('Expecting value: line 1 column 1 (char 0)')\n",
      "\n",
      "1 Failed download:\n",
      "['LEN']: JSONDecodeError('Expecting value: line 1 column 1 (char 0)')\n"
     ]
    }
   ],
   "execution_count": null
  },
  {
   "cell_type": "code",
   "id": "704e2d61-ee52-4a6a-a5b5-7e8ba5b3f4ac",
   "metadata": {},
   "source": [
    "from pympler import asizeof\n",
    "\n",
    "def dict_size_gb_recursive(dictionary):\n",
    "    size_bytes = asizeof.asizeof(dictionary)\n",
    "    size_gb = size_bytes / (1024 ** 3)  # Convert bytes to gigabytes\n",
    "    return size_gb\n",
    "    \n",
    "print(f\"Recursive size: {dict_size_gb_recursive(all_dfs_dict):.6f} GB\")"
   ],
   "outputs": [],
   "execution_count": null
  },
  {
   "cell_type": "markdown",
   "id": "9c6b1c55-b5e2-4584-847f-a0e1f88468d7",
   "metadata": {},
   "source": [
    "# Download Out Of sample Data"
   ]
  },
  {
   "cell_type": "code",
   "id": "c3932342-b2a3-430c-a2d5-5ea038484054",
   "metadata": {},
   "source": [
    "%%time\n",
    "all_dfs_dict = {}\n",
    "for ticker in tickers:\n",
    "    try:\n",
    "        current_stock = get_stock_data(ticker, start_date = \"2020-01-01\")\n",
    "        current_stock.reset_index(inplace = True)\n",
    "        if len(current_stock) < 5:\n",
    "            pass\n",
    "        else: \n",
    "            current_stock.to_csv(f\"../_csv/out_of_sample/{ticker}.csv\")\n",
    "        all_dfs_dict[f\"{ticker}\"] = current_stock\n",
    "    except:\n",
    "        all_dfs_dict[f\"{ticker}\"] = None"
   ],
   "outputs": [],
   "execution_count": null
  },
  {
   "cell_type": "code",
   "id": "eb7ea548-731c-44f5-b8ab-118e52c24888",
   "metadata": {},
   "source": [],
   "outputs": [],
   "execution_count": null
  },
  {
   "metadata": {},
   "cell_type": "code",
   "source": "",
   "id": "6c650ba30294f9ec",
   "outputs": [],
   "execution_count": null
  }
 ],
 "metadata": {
  "kernelspec": {
   "display_name": "Python 3 (ipykernel)",
   "language": "python",
   "name": "python3"
  },
  "language_info": {
   "codemirror_mode": {
    "name": "ipython",
    "version": 3
   },
   "file_extension": ".py",
   "mimetype": "text/x-python",
   "name": "python",
   "nbconvert_exporter": "python",
   "pygments_lexer": "ipython3",
   "version": "3.11.5"
  }
 },
 "nbformat": 4,
 "nbformat_minor": 5
}
