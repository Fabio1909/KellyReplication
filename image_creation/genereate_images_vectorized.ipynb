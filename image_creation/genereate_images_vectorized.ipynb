{
 "cells": [
  {
   "metadata": {
    "ExecuteTime": {
     "end_time": "2025-08-15T15:17:24.628442Z",
     "start_time": "2025-08-15T15:17:24.626144Z"
    }
   },
   "cell_type": "code",
   "source": [
    "import pandas as pd\n",
    "from OHLC_vectorized import OHLC\n",
    "import os"
   ],
   "id": "383e3e83bc51132a",
   "outputs": [],
   "execution_count": 6
  },
  {
   "metadata": {
    "ExecuteTime": {
     "end_time": "2025-08-15T15:17:25.709850Z",
     "start_time": "2025-08-15T15:17:25.706266Z"
    }
   },
   "cell_type": "code",
   "source": [
    "traning_dir_list = os.listdir(\"../_csv/traning/\")\n",
    "oos_dir_list = os.listdir(\"../_csv/out_of_sample\")\n",
    "print(f\"Items in traning: {len(traning_dir_list)}\")\n",
    "print(f\"Items in out of sample {len(oos_dir_list)}\")"
   ],
   "id": "ad9d24a5a7c0edfb",
   "outputs": [
    {
     "name": "stdout",
     "output_type": "stream",
     "text": [
      "Items in traning: 489\n",
      "Items in out of sample 502\n"
     ]
    }
   ],
   "execution_count": 7
  },
  {
   "metadata": {
    "ExecuteTime": {
     "end_time": "2025-08-15T15:17:26.963025Z",
     "start_time": "2025-08-15T15:17:26.959969Z"
    }
   },
   "cell_type": "code",
   "source": [
    "config_dict = {\n",
    "    # 5-day\n",
    "    \"I5-R5\": {\"window_size\": 5, \"horizon_size\": 5, \"height_px\": 32, \"chart_px\": 25, \"vol_px\": 6},\n",
    "    \"I5-R20\": {\"window_size\": 5, \"horizon_size\": 20, \"height_px\": 32, \"chart_px\": 25, \"vol_px\": 6},\n",
    "    \"I5-R60\": {\"window_size\": 5, \"horizon_size\": 60, \"height_px\": 32, \"chart_px\": 25, \"vol_px\": 6},\n",
    "    # 20-day\n",
    "    \"I20-R5\": {\"window_size\": 20, \"horizon_size\": 5, \"height_px\": 64, \"chart_px\": 52, \"vol_px\": 12},\n",
    "    \"I20-R20\": {\"window_size\": 20, \"horizon_size\": 20, \"height_px\": 64, \"chart_px\": 52, \"vol_px\": 12},\n",
    "    \"I20-R60\": {\"window_size\": 20, \"horizon_size\": 60, \"height_px\": 64, \"chart_px\": 52, \"vol_px\": 12},\n",
    "    # 60-day\n",
    "    \"I60-R5\": {\"window_size\": 60, \"horizon_size\": 5, \"height_px\": 96, \"chart_px\": 77, \"vol_px\": 19},\n",
    "    \"I60-R20\": {\"window_size\": 60, \"horizon_size\": 20, \"height_px\": 96, \"chart_px\": 77, \"vol_px\": 19},\n",
    "    \"I60-R60\": {\"window_size\": 60, \"horizon_size\": 60, \"height_px\": 96, \"chart_px\": 77, \"vol_px\": 19},\n",
    "}"
   ],
   "id": "aa51b591c7b2fc91",
   "outputs": [],
   "execution_count": 8
  },
  {
   "metadata": {
    "ExecuteTime": {
     "end_time": "2025-08-15T15:17:30.914644Z",
     "start_time": "2025-08-15T15:17:30.908030Z"
    }
   },
   "cell_type": "code",
   "source": [
    "def run_image_creation(model_name, window_size, horizon_size, height_px, chart_px, vol_px):\n",
    "    # Training\n",
    "    for file in traning_dir_list:\n",
    "        current_df = pd.read_csv(f\"../_csv/traning/{file}\",\n",
    "                                 parse_dates=['Date'],\n",
    "                                 index_col='Date').drop(columns=['Unnamed: 0'])\n",
    "        imageMaker = OHLC(current_df, window_size, height_px, chart_px, vol_px, use_gpu=True)\n",
    "        output_directory = f\"../_images_vec/{model_name}/traning/{file[:-4]}\"\n",
    "        os.makedirs(output_directory, exist_ok=True)\n",
    "        for i in range(window_size, len(current_df) - horizon_size, 1):\n",
    "            start = i - window_size\n",
    "            end = i\n",
    "            horizon_start = i\n",
    "            horizon_end = i - 1 + horizon_size\n",
    "            past_start = i - (window_size*2)\n",
    "            date_str = current_df.index[start].strftime(\"%Y%m%d\")\n",
    "            image_path_not_completed = f\"{output_directory}/{date_str}\"\n",
    "            imageMaker.plot_window(start, end, horizon_start, horizon_end, past_start, image_path_not_completed)\n",
    "        del imageMaker\n",
    "\n",
    "def other_stuff():\n",
    "    # OOS UNLEVERED\n",
    "    for file in traning_dir_list:\n",
    "        current_df = pd.read_csv(f\"../_csv/out_of_sample/{file}\",\n",
    "                                 parse_dates=['Date'],\n",
    "                                 index_col='Date').drop(columns=['Unnamed: 0'])\n",
    "        imageMaker = OHLC(current_df, window_size, height_px, chart_px, vol_px)\n",
    "        output_directory = f\"../_images/{model_name}/out_of_sample/{file[:-4]}\"\n",
    "        os.makedirs(output_directory, exist_ok=True)\n",
    "        for i in range(window_size, len(current_df) - horizon_size, horizon_size):\n",
    "            start = i - window_size\n",
    "            end = i\n",
    "            horizon_start = i\n",
    "            horizon_end = i - 1 + horizon_size\n",
    "            past_start = i - (window_size*2)\n",
    "            date_str = current_df.index[start].strftime(\"%Y%m%d\")\n",
    "            image_path_not_completed = f\"{output_directory}/{date_str}\"\n",
    "            imageMaker.plot_window(start, end, horizon_start, horizon_end, past_start, image_path_not_completed)\n",
    "        del imageMaker\n",
    "\n",
    "    # OOS LEVERED\n",
    "    if model_name.endswith(\"R5\"):\n",
    "        stride = 1\n",
    "    elif model_name.endswith(\"R20\"):\n",
    "        stride = 4\n",
    "    elif model_name.endswith(\"R60\"):\n",
    "        stride = 12\n",
    "    else:\n",
    "        raise ValueError(\"Invalid model name\")\n",
    "\n",
    "    for file in traning_dir_list:\n",
    "        current_df = pd.read_csv(f\"../_csv/out_of_sample/{file}\",\n",
    "                                 parse_dates=['Date'],\n",
    "                                 index_col='Date').drop(columns=['Unnamed: 0'])\n",
    "        imageMaker = OHLC(current_df, window_size, height_px, chart_px, vol_px)\n",
    "        output_directory = f\"../_images/{model_name}/out_of_sample_levered/{file[:-4]}\"\n",
    "        os.makedirs(output_directory, exist_ok=True)\n",
    "        for i in range(window_size, len(current_df) - horizon_size, stride):\n",
    "            start = i - window_size\n",
    "            end = i\n",
    "            horizon_start = i\n",
    "            horizon_end = i - 1 + horizon_size\n",
    "            past_start = i - (window_size*2)\n",
    "            date_str = current_df.index[start].strftime(\"%Y%m%d\")\n",
    "            image_path_not_completed = f\"{output_directory}/{date_str}\"\n",
    "            imageMaker.plot_window(start, end, horizon_start, horizon_end, past_start, image_path_not_completed)\n",
    "        del imageMaker"
   ],
   "id": "9325b64b924fc575",
   "outputs": [],
   "execution_count": 10
  },
  {
   "metadata": {
    "ExecuteTime": {
     "end_time": "2025-08-15T15:17:33.209605Z",
     "start_time": "2025-08-15T15:17:33.187308Z"
    }
   },
   "cell_type": "code",
   "source": [
    "for model_name, config in config_dict.items():\n",
    "    window_size = config[\"window_size\"]\n",
    "    horizon_size = config[\"horizon_size\"]\n",
    "    height_px = config[\"height_px\"]\n",
    "    chart_px = config[\"chart_px\"]\n",
    "    vol_px = config[\"vol_px\"]\n",
    "    print(f\"Creating images for {model_name}\")\n",
    "    run_image_creation(model_name, window_size, horizon_size, height_px, chart_px, vol_px)\n",
    "    print(\"=\"*100)\n",
    "    print(\"=\"*100)"
   ],
   "id": "1692e3afafb6a369",
   "outputs": [
    {
     "name": "stdout",
     "output_type": "stream",
     "text": [
      "Creating images for I5-R5\n"
     ]
    },
    {
     "ename": "AttributeError",
     "evalue": "'OHLC' object has no attribute 'horizon_start'",
     "output_type": "error",
     "traceback": [
      "\u001B[0;31m---------------------------------------------------------------------------\u001B[0m",
      "\u001B[0;31mAttributeError\u001B[0m                            Traceback (most recent call last)",
      "Cell \u001B[0;32mIn[11], line 8\u001B[0m\n\u001B[1;32m      6\u001B[0m vol_px \u001B[38;5;241m=\u001B[39m config[\u001B[38;5;124m\"\u001B[39m\u001B[38;5;124mvol_px\u001B[39m\u001B[38;5;124m\"\u001B[39m]\n\u001B[1;32m      7\u001B[0m \u001B[38;5;28mprint\u001B[39m(\u001B[38;5;124mf\u001B[39m\u001B[38;5;124m\"\u001B[39m\u001B[38;5;124mCreating images for \u001B[39m\u001B[38;5;132;01m{\u001B[39;00mmodel_name\u001B[38;5;132;01m}\u001B[39;00m\u001B[38;5;124m\"\u001B[39m)\n\u001B[0;32m----> 8\u001B[0m run_image_creation(model_name, window_size, horizon_size, height_px, chart_px, vol_px)\n\u001B[1;32m      9\u001B[0m \u001B[38;5;28mprint\u001B[39m(\u001B[38;5;124m\"\u001B[39m\u001B[38;5;124m=\u001B[39m\u001B[38;5;124m\"\u001B[39m\u001B[38;5;241m*\u001B[39m\u001B[38;5;241m100\u001B[39m)\n\u001B[1;32m     10\u001B[0m \u001B[38;5;28mprint\u001B[39m(\u001B[38;5;124m\"\u001B[39m\u001B[38;5;124m=\u001B[39m\u001B[38;5;124m\"\u001B[39m\u001B[38;5;241m*\u001B[39m\u001B[38;5;241m100\u001B[39m)\n",
      "Cell \u001B[0;32mIn[10], line 18\u001B[0m, in \u001B[0;36mrun_image_creation\u001B[0;34m(model_name, window_size, horizon_size, height_px, chart_px, vol_px)\u001B[0m\n\u001B[1;32m     16\u001B[0m     date_str \u001B[38;5;241m=\u001B[39m current_df\u001B[38;5;241m.\u001B[39mindex[start]\u001B[38;5;241m.\u001B[39mstrftime(\u001B[38;5;124m\"\u001B[39m\u001B[38;5;124m%\u001B[39m\u001B[38;5;124mY\u001B[39m\u001B[38;5;124m%\u001B[39m\u001B[38;5;124mm\u001B[39m\u001B[38;5;132;01m%d\u001B[39;00m\u001B[38;5;124m\"\u001B[39m)\n\u001B[1;32m     17\u001B[0m     image_path_not_completed \u001B[38;5;241m=\u001B[39m \u001B[38;5;124mf\u001B[39m\u001B[38;5;124m\"\u001B[39m\u001B[38;5;132;01m{\u001B[39;00moutput_directory\u001B[38;5;132;01m}\u001B[39;00m\u001B[38;5;124m/\u001B[39m\u001B[38;5;132;01m{\u001B[39;00mdate_str\u001B[38;5;132;01m}\u001B[39;00m\u001B[38;5;124m\"\u001B[39m\n\u001B[0;32m---> 18\u001B[0m     imageMaker\u001B[38;5;241m.\u001B[39mplot_window(start, end, horizon_start, horizon_end, past_start, image_path_not_completed)\n\u001B[1;32m     19\u001B[0m \u001B[38;5;28;01mdel\u001B[39;00m imageMaker\n",
      "File \u001B[0;32m~/Desktop/Thesis/Replication/image_creation/OHLC_vectorized.py:342\u001B[0m, in \u001B[0;36mOHLC.plot_window\u001B[0;34m(self, start, end, horizon_start, horizon_end, past_start, directory_not_complete)\u001B[0m\n\u001B[1;32m    340\u001B[0m     \u001B[38;5;28;01mreturn\u001B[39;00m\n\u001B[1;32m    341\u001B[0m \u001B[38;5;28mself\u001B[39m\u001B[38;5;241m.\u001B[39mdraw_moving_average()\n\u001B[0;32m--> 342\u001B[0m \u001B[38;5;28mself\u001B[39m\u001B[38;5;241m.\u001B[39mstep6_annotate_image()\n\u001B[1;32m    343\u001B[0m \u001B[38;5;28mself\u001B[39m\u001B[38;5;241m.\u001B[39mstep7_save_img(directory_not_complete)\n\u001B[1;32m    344\u001B[0m \u001B[38;5;28mself\u001B[39m\u001B[38;5;241m.\u001B[39mstep8_clear_window()\n",
      "File \u001B[0;32m~/Desktop/Thesis/Replication/image_creation/OHLC_vectorized.py:290\u001B[0m, in \u001B[0;36mOHLC.step6_annotate_image\u001B[0;34m(self)\u001B[0m\n\u001B[1;32m    289\u001B[0m \u001B[38;5;28;01mdef\u001B[39;00m \u001B[38;5;21mstep6_annotate_image\u001B[39m(\u001B[38;5;28mself\u001B[39m):\n\u001B[0;32m--> 290\u001B[0m     start_price \u001B[38;5;241m=\u001B[39m \u001B[38;5;28mself\u001B[39m\u001B[38;5;241m.\u001B[39mhorizon_start[\u001B[38;5;124m\"\u001B[39m\u001B[38;5;124mOpen\u001B[39m\u001B[38;5;124m\"\u001B[39m]\n\u001B[1;32m    291\u001B[0m     end_price \u001B[38;5;241m=\u001B[39m \u001B[38;5;28mself\u001B[39m\u001B[38;5;241m.\u001B[39mhorizon_end[\u001B[38;5;124m\"\u001B[39m\u001B[38;5;124mClose\u001B[39m\u001B[38;5;124m\"\u001B[39m]\n\u001B[1;32m    292\u001B[0m     \u001B[38;5;28mself\u001B[39m\u001B[38;5;241m.\u001B[39mlabel \u001B[38;5;241m=\u001B[39m \u001B[38;5;28;01mTrue\u001B[39;00m \u001B[38;5;28;01mif\u001B[39;00m end_price \u001B[38;5;241m>\u001B[39m start_price \u001B[38;5;28;01melse\u001B[39;00m \u001B[38;5;28;01mFalse\u001B[39;00m\n",
      "\u001B[0;31mAttributeError\u001B[0m: 'OHLC' object has no attribute 'horizon_start'"
     ]
    }
   ],
   "execution_count": 11
  },
  {
   "metadata": {},
   "cell_type": "code",
   "source": "",
   "id": "964fcec5dd7926f0",
   "outputs": [],
   "execution_count": null
  }
 ],
 "metadata": {
  "kernelspec": {
   "display_name": "Python 3",
   "language": "python",
   "name": "python3"
  },
  "language_info": {
   "codemirror_mode": {
    "name": "ipython",
    "version": 2
   },
   "file_extension": ".py",
   "mimetype": "text/x-python",
   "name": "python",
   "nbconvert_exporter": "python",
   "pygments_lexer": "ipython2",
   "version": "2.7.6"
  }
 },
 "nbformat": 4,
 "nbformat_minor": 5
}
